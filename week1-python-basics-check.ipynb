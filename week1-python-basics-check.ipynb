{
 "cells": [
  {
   "cell_type": "markdown",
   "id": "25246e61",
   "metadata": {},
   "source": [
    "# Python Basics Assignment\n",
    "\n",
    "This notebook contains 20 questions designed to test your understanding of Python basics.\n",
    "Answer each question in the provided code cell."
   ]
  },
  {
   "cell_type": "code",
   "execution_count": null,
   "id": "13715844",
   "metadata": {},
   "outputs": [],
   "source": [
    "# Validate Python version\n",
    "import sys\n",
    "print(\"Python version:\", sys.version)"
   ]
  },
  {
   "cell_type": "markdown",
   "id": "48f88071",
   "metadata": {},
   "source": [
    "### Question 1\n",
    "Write a Python program to print 'Hello, World!'\n",
    "\n",
    "**Hint:** No imports needed. Use the print() function."
   ]
  },
  {
   "cell_type": "code",
   "execution_count": null,
   "id": "798449d5",
   "metadata": {},
   "outputs": [],
   "source": [
    "# Your code here\n"
   ]
  },
  {
   "cell_type": "markdown",
   "id": "39206233",
   "metadata": {},
   "source": [
    "### Question 2\n",
    "Write a Python program to swap two variables without using a third variable.\n",
    "\n",
    "**Hint:** No imports needed. Use basic variable assignment."
   ]
  },
  {
   "cell_type": "code",
   "execution_count": null,
   "id": "e00084b4",
   "metadata": {},
   "outputs": [],
   "source": [
    "# Your code here\n"
   ]
  },
  {
   "cell_type": "markdown",
   "id": "f8bd9c61",
   "metadata": {},
   "source": [
    "### Question 3\n",
    "Write a Python program to check if a number is even or odd.\n",
    "\n",
    "**Hint:** Use the modulo operator `%`."
   ]
  },
  {
   "cell_type": "code",
   "execution_count": null,
   "id": "6940ef89",
   "metadata": {},
   "outputs": [],
   "source": [
    "# Your code here\n"
   ]
  },
  {
   "cell_type": "markdown",
   "id": "7da5d03b",
   "metadata": {},
   "source": [
    "### Question 4\n",
    "Write a Python program to calculate the sum of all numbers from 1 to n.\n",
    "\n",
    "**Hint:** Use a loop or the `sum()` function."
   ]
  },
  {
   "cell_type": "code",
   "execution_count": null,
   "id": "f18ab9e9",
   "metadata": {},
   "outputs": [],
   "source": [
    "# Your code here\n"
   ]
  },
  {
   "cell_type": "markdown",
   "id": "b7165ff1",
   "metadata": {},
   "source": [
    "### Question 5\n",
    "Write a Python program to find the factorial of a given number.\n",
    "\n",
    "**Hint:** Use a loop or recursion."
   ]
  },
  {
   "cell_type": "code",
   "execution_count": null,
   "id": "65a2b9c2",
   "metadata": {},
   "outputs": [],
   "source": [
    "# Your code here\n"
   ]
  },
  {
   "cell_type": "markdown",
   "id": "31c60ed2",
   "metadata": {},
   "source": [
    "### Question 6\n",
    "Write a Python function to check if a given string is a palindrome.\n",
    "\n",
    "**Hint:** Loop through the string or use slicing."
   ]
  },
  {
   "cell_type": "code",
   "execution_count": null,
   "id": "bc652776",
   "metadata": {},
   "outputs": [],
   "source": [
    "# Your code here\n"
   ]
  },
  {
   "cell_type": "markdown",
   "id": "59051d42",
   "metadata": {},
   "source": [
    "### Question 7\n",
    "Write a Python program to print the Fibonacci sequence up to n terms.\n",
    "\n",
    "**Hint:** Use a loop or recursion."
   ]
  },
  {
   "cell_type": "code",
   "execution_count": null,
   "id": "a036348c",
   "metadata": {},
   "outputs": [],
   "source": [
    "# Your code here\n"
   ]
  },
  {
   "cell_type": "markdown",
   "id": "0124631d",
   "metadata": {},
   "source": [
    "### Question 8\n",
    "Write a Python program to count the occurrences of a character in a string.\n",
    "\n",
    "**Hint:** Use a dictionary to store character counts."
   ]
  },
  {
   "cell_type": "code",
   "execution_count": null,
   "id": "1bcf0d63",
   "metadata": {},
   "outputs": [],
   "source": [
    "# Your code here\n"
   ]
  },
  {
   "cell_type": "markdown",
   "id": "99fc11d4",
   "metadata": {},
   "source": [
    "### Question 9\n",
    "Write a Python program to find the maximum and minimum values in a list.\n",
    "\n",
    "**Hint:** Use the `max()` and `min()` functions."
   ]
  },
  {
   "cell_type": "code",
   "execution_count": null,
   "id": "a08cac82",
   "metadata": {},
   "outputs": [],
   "source": [
    "# Your code here\n"
   ]
  },
  {
   "cell_type": "markdown",
   "id": "285f1257",
   "metadata": {},
   "source": [
    "### Question 10\n",
    "Write a Python program to reverse a list without using the built-in reverse() method.\n",
    "\n",
    "**Hint:** Use list slicing or a loop."
   ]
  },
  {
   "cell_type": "code",
   "execution_count": null,
   "id": "54c24f51",
   "metadata": {},
   "outputs": [],
   "source": [
    "# Your code here\n"
   ]
  },
  {
   "cell_type": "markdown",
   "id": "c65647d3",
   "metadata": {},
   "source": [
    "### Question 11\n",
    "Write a Python program to remove duplicates from a list.\n",
    "\n",
    "**Hint:** Use a set or loop through the list."
   ]
  },
  {
   "cell_type": "code",
   "execution_count": null,
   "id": "b09d3575",
   "metadata": {},
   "outputs": [],
   "source": [
    "# Your code here\n"
   ]
  },
  {
   "cell_type": "markdown",
   "id": "4d82e7a9",
   "metadata": {},
   "source": [
    "### Question 12\n",
    "Write a Python program to count the number of vowels in a given string.\n",
    "\n",
    "**Hint:** Loop through the string and check each character."
   ]
  },
  {
   "cell_type": "code",
   "execution_count": null,
   "id": "4ecd57f2",
   "metadata": {},
   "outputs": [],
   "source": [
    "# Your code here\n"
   ]
  },
  {
   "cell_type": "markdown",
   "id": "47baf215",
   "metadata": {},
   "source": [
    "### Question 13\n",
    "Write a Python program to check if a given year is a leap year.\n",
    "\n",
    "**Hint:** Use conditions with `%` operator."
   ]
  },
  {
   "cell_type": "code",
   "execution_count": null,
   "id": "30b18d07",
   "metadata": {},
   "outputs": [],
   "source": [
    "# Your code here\n"
   ]
  },
  {
   "cell_type": "markdown",
   "id": "964a1f95",
   "metadata": {},
   "source": [
    "### Question 14\n",
    "Write a Python function that takes a list of numbers and returns the sum of all even numbers.\n",
    "\n",
    "**Hint:** Use list comprehension and the `sum()` function."
   ]
  },
  {
   "cell_type": "code",
   "execution_count": null,
   "id": "be13fb29",
   "metadata": {},
   "outputs": [],
   "source": [
    "# Your code here\n"
   ]
  },
  {
   "cell_type": "markdown",
   "id": "7591f875",
   "metadata": {},
   "source": [
    "### Question 15\n",
    "Write a Python program to generate a list of squares of numbers from 1 to n.\n",
    "\n",
    "**Hint:** Use list comprehension."
   ]
  },
  {
   "cell_type": "code",
   "execution_count": null,
   "id": "ec63ce75",
   "metadata": {},
   "outputs": [],
   "source": [
    "# Your code here\n"
   ]
  },
  {
   "cell_type": "markdown",
   "id": "5a753d20",
   "metadata": {},
   "source": [
    "### Question 16\n",
    "Write a Python program to check if a given number is prime.\n",
    "\n",
    "**Hint:** Check divisibility using a loop."
   ]
  },
  {
   "cell_type": "code",
   "execution_count": null,
   "id": "f110de5f",
   "metadata": {},
   "outputs": [],
   "source": [
    "# Your code here\n"
   ]
  },
  {
   "cell_type": "markdown",
   "id": "65004c6c",
   "metadata": {},
   "source": [
    "### Question 17\n",
    "Write a Python function that takes two lists and returns a new list with only the common elements.\n",
    "\n",
    "**Hint:** Use `set()` or list comprehension."
   ]
  },
  {
   "cell_type": "code",
   "execution_count": null,
   "id": "c2323eaf",
   "metadata": {},
   "outputs": [],
   "source": [
    "# Your code here\n"
   ]
  },
  {
   "cell_type": "markdown",
   "id": "a28375e7",
   "metadata": {},
   "source": [
    "### Question 18\n",
    "Write a Python program to merge two dictionaries.\n",
    "\n",
    "**Hint:** Use the `update()` method of dictionaries."
   ]
  },
  {
   "cell_type": "code",
   "execution_count": null,
   "id": "a8a20128",
   "metadata": {},
   "outputs": [],
   "source": [
    "# Your code here\n"
   ]
  },
  {
   "cell_type": "markdown",
   "id": "2d2738b3",
   "metadata": {},
   "source": [
    "### Question 19\n",
    "Write a Python function that takes a string and returns a dictionary with the count of each word in the string.\n",
    "\n",
    "**Hint:** Use `split()` and a dictionary."
   ]
  },
  {
   "cell_type": "code",
   "execution_count": null,
   "id": "1e0795e8",
   "metadata": {},
   "outputs": [],
   "source": [
    "# Your code here\n"
   ]
  },
  {
   "cell_type": "markdown",
   "id": "f4182b60",
   "metadata": {},
   "source": [
    "### Question 20\n",
    "Write a Python program to sort a list of tuples based on the second element of each tuple.\n",
    "\n",
    "**Hint:** Use `sorted()` with a lambda function."
   ]
  },
  {
   "cell_type": "code",
   "execution_count": null,
   "id": "9b4251a7",
   "metadata": {},
   "outputs": [],
   "source": [
    "# Your code here\n"
   ]
  }
 ],
 "metadata": {},
 "nbformat": 4,
 "nbformat_minor": 5
}
